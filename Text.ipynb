{
 "cells": [
  {
   "cell_type": "code",
   "execution_count": 10,
   "id": "29d36557",
   "metadata": {},
   "outputs": [
    {
     "name": "stdout",
     "output_type": "stream",
     "text": [
      "flag{6fde4163df05d900}\n"
     ]
    }
   ],
   "source": [
    "a=\"fa{fe13f590\"\n",
    "b=\"lg6d46d0d0}\"\n",
    "char=[]\n",
    "for i,j in zip(a,b):\n",
    "    char.append(i)\n",
    "    char.append(j)\n",
    "print(\"\".join(char))\n"
   ]
  }
 ],
 "metadata": {
  "kernelspec": {
   "display_name": "Python 3",
   "language": "python",
   "name": "python3"
  },
  "language_info": {
   "codemirror_mode": {
    "name": "ipython",
    "version": 3
   },
   "file_extension": ".py",
   "mimetype": "text/x-python",
   "name": "python",
   "nbconvert_exporter": "python",
   "pygments_lexer": "ipython3",
   "version": "3.12.1"
  }
 },
 "nbformat": 4,
 "nbformat_minor": 5
}
