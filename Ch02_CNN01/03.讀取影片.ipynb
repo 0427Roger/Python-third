{
 "cells": [
  {
   "cell_type": "markdown",
   "metadata": {},
   "source": [
    "## 讀取影片"
   ]
  },
  {
   "cell_type": "code",
   "execution_count": null,
   "metadata": {},
   "outputs": [],
   "source": [
    "import cv2"
   ]
  },
  {
   "cell_type": "code",
   "execution_count": null,
   "metadata": {},
   "outputs": [],
   "source": [
    "#cap = cv2.VideoCapture(0) #參數為數字時，會開啟電腦攝影機\n",
    "cap = cv2.VideoCapture('img/美河市.mp4') # 讀取電腦中的影片\n",
    "#偵測是否能讀取\n",
    "\n"
   ]
  },
  {
   "cell_type": "code",
   "execution_count": null,
   "metadata": {},
   "outputs": [],
   "source": [
    "\n",
    "while True:\n",
    "    ret, frame = cap.read() # ret:讀取順利或錯誤, frame:讀取影片的每一幀\n",
    "    if not ret:\n",
    "        print(\"讀取錯誤\")\n",
    "        break\n",
    "    cv2.imshow('myCam', frame)   \n",
    "    if cv2.waitKey(1) == ord('q'): # 每一毫秒更新一次，直到按下 q 結束\n",
    "        break\n",
    "cap.release()# 所有作業都完成後，釋放資源\n",
    "cv2.destroyAllWindows() # 結束所有視窗\n",
    "#cv2.waitKey(1)"
   ]
  },
  {
   "cell_type": "code",
   "execution_count": null,
   "metadata": {},
   "outputs": [],
   "source": [
    "#指定色彩模式顯示\n",
    "while True:\n",
    "    ret, frame = cap.read() # ret:讀取順利或錯誤, frame:讀取影片的每一幀\n",
    "    if not ret:\n",
    "        print(\"讀取錯誤\")\n",
    "        break\n",
    "    \n",
    "    gray = cv2.cvtColor(frame, cv2.COLOR_BGR2RGB)  # 轉換成灰階\n",
    "    cv2.imshow('myCam', gray)\n",
    " \n",
    "    if cv2.waitKey(1) == ord('q'): # 每一毫秒更新一次，直到按下 q 結束\n",
    "        break\n",
    "cap.release()# 所有作業都完成後，釋放資源\n",
    "cv2.destroyAllWindows() # 結束所有視窗\n",
    "#cv2.waitKey(1) "
   ]
  },
  {
   "cell_type": "code",
   "execution_count": null,
   "metadata": {},
   "outputs": [],
   "source": [
    "#讀取交通部的「CCTV 開放資料集」所提供的「國道監視器影像」，讀取後就能開啟 OpenCV 視窗並即時監看特定影像。\n",
    "import cv2\n",
    "cap = cv2.VideoCapture('https://cctvn.freeway.gov.tw/abs2mjpg/bmjpg?camera=15771')\n",
    "\n",
    "if not cap.isOpened():\n",
    "    print(\"Cannot open camera\")\n",
    "    exit()\n",
    "while True:\n",
    "    ret, frame = cap.read()# ret:讀取順利或錯誤, frame:讀取影片的每一幀\n",
    "    if not ret:\n",
    "        print(\"Cannot receive frame\")   # 如果讀取錯誤，印出訊息\n",
    "        # 出現錯誤就再讀取一次，避免程式到此處就停止\n",
    "        cap = cv2.VideoCapture('https://cctvn.freeway.gov.tw/abs2mjpg/bmjpg?camera=15771')\n",
    "        continue\n",
    "    cv2.imshow('myCam', frame)     # 如果讀取成功，顯示該幀的畫面\n",
    "    if cv2.waitKey(1) == ord('q'):      # 每一毫秒更新一次，直到按下 q 結束\n",
    "        break\n",
    "cap.release()                           # 所有作業都完成後，釋放資源\n",
    "cv2.destroyAllWindows()                 # 結束所有視窗\n",
    "#cv2.waitKey(1)"
   ]
  },
  {
   "cell_type": "markdown",
   "metadata": {},
   "source": [
    "### 儲存影片"
   ]
  },
  {
   "cell_type": "code",
   "execution_count": null,
   "metadata": {},
   "outputs": [],
   "source": [
    "cap = cv2.VideoCapture('img/美河市.mp4')\n",
    "\n",
    "width = int(cap.get(cv2.CAP_PROP_FRAME_WIDTH))    # 取得影像寬度\n",
    "height = int(cap.get(cv2.CAP_PROP_FRAME_HEIGHT))  # 取得影像高度\n",
    "\n",
    "fourcc = cv2.VideoWriter_fourcc(*'mp4v')# 設定影片格式\n",
    "out = cv2.VideoWriter('美河市output.mp4', fourcc, 20.0, (width,  height))  # 產生空的串流\n",
    "\n",
    "if not cap.isOpened():\n",
    "    print(\"error\")\n",
    "    exit()\n",
    "while True:\n",
    "    ret, frame = cap.read()\n",
    "    if not ret:\n",
    "        print(\"no data\")\n",
    "        break\n",
    "    \n",
    "    out.write(frame) \n",
    "\n",
    "    cv2.imshow('myCam', frame)\n",
    "    if cv2.waitKey(1) == ord('q'):\n",
    "        break             \n",
    "cap.release()\n",
    "out.release()      # 釋放資源\n",
    "cv2.destroyAllWindows()\n",
    "cv2.waitKey(1)"
   ]
  }
 ],
 "metadata": {
  "kernelspec": {
   "display_name": "Py3_12",
   "language": "python",
   "name": "python3"
  },
  "language_info": {
   "codemirror_mode": {
    "name": "ipython",
    "version": 3
   },
   "file_extension": ".py",
   "mimetype": "text/x-python",
   "name": "python",
   "nbconvert_exporter": "python",
   "pygments_lexer": "ipython3",
   "version": "3.12.7"
  }
 },
 "nbformat": 4,
 "nbformat_minor": 2
}
