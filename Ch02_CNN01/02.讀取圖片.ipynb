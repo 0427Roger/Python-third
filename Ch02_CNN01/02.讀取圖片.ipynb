{
 "cells": [
  {
   "cell_type": "markdown",
   "metadata": {
    "id": "d3tJuDzESvVS"
   },
   "source": [
    "openCV官網程式庫API：https://docs.opencv.org/4.x/"
   ]
  },
  {
   "cell_type": "code",
   "execution_count": null,
   "metadata": {
    "id": "_dv_U5VYSvVW"
   },
   "outputs": [],
   "source": [
    "import cv2 # 匯入 OpenCV 函式庫\n",
    "from IPython.display import Image, display"
   ]
  },
  {
   "cell_type": "markdown",
   "metadata": {
    "id": "O6J5AfOMSvVY"
   },
   "source": [
    "## 讀取圖片"
   ]
  },
  {
   "cell_type": "code",
   "execution_count": null,
   "metadata": {
    "id": "CbCNi-GsSvVZ",
    "outputId": "eef9ae40-6612-4a98-ab61-5c8ff7cb5507"
   },
   "outputs": [],
   "source": [
    "Image(\"img/mario.jpg\",width=200)"
   ]
  },
  {
   "cell_type": "code",
   "execution_count": null,
   "metadata": {
    "id": "nYIkCpQTSvVa",
    "outputId": "5adebcf4-e7ee-4208-8d48-45f19edcbbbc"
   },
   "outputs": [],
   "source": [
    "img = cv2.imread('img/mario.jpg')# 開啟圖片\n",
    "cv2.imshow('myMario', img)  # 使用名為 myImg 的視窗開啟圖片\n",
    "\n",
    "cv2.waitKey(0)#等待毫秒數，0 表示持續等待至使用者按下任意鍵為止\n",
    "cv2.destroyAllWindows() # 結束所有圖片視窗\n",
    "#cv2.waitKey(1) #for mac"
   ]
  },
  {
   "cell_type": "code",
   "execution_count": null,
   "metadata": {
    "id": "UCoDsGT8SvVb"
   },
   "outputs": [],
   "source": [
    "#另存圖片\n",
    "img2 = cv2.imread('img/mario.jpg', cv2.IMREAD_GRAYSCALE) # 以灰階模式開啟圖片\n",
    "cv2.imwrite('myImg.jpg', img2, [cv2.IMWRITE_JPEG_QUALITY, 80])  # 存成 jpg\n",
    "cv2.imwrite('myImg.png', img2)  # 存成 png"
   ]
  },
  {
   "cell_type": "markdown",
   "metadata": {
    "id": "erq0QIh7SvVb"
   },
   "source": [
    "### 色彩模式"
   ]
  },
  {
   "cell_type": "code",
   "execution_count": null,
   "metadata": {
    "id": "Eez68o30SvVc",
    "outputId": "0d71655f-0e3d-403d-df7d-2d8373a6ec96"
   },
   "outputs": [],
   "source": [
    "Image(\"img/r_to_b.png\",width=200)"
   ]
  },
  {
   "cell_type": "code",
   "execution_count": null,
   "metadata": {
    "id": "pK_YGDaqSvVc"
   },
   "outputs": [],
   "source": [
    "# 預設模式\n",
    "img2 = cv2.imread('img/r_to_b.png')\n",
    "cv2.imshow('myImg', img2)\n",
    "cv2.waitKey(0)\n",
    "cv2.destroyAllWindows()\n"
   ]
  },
  {
   "cell_type": "code",
   "execution_count": null,
   "metadata": {
    "id": "l3bYaEyWSvVd"
   },
   "outputs": [],
   "source": [
    "# 使用 cv2.IMREAD_GRAYSCALE 模式\n",
    "img22 = cv2.imread('img/r_to_b.png', cv2.IMREAD_GRAYSCALE)\n",
    "# img = cv2.imread('img/meme.jpg', 2) # 也可使用數字代表模式\n",
    "cv2.imshow('myImg', img22)\n",
    "cv2.waitKey(0)\n",
    "cv2.destroyAllWindows()\n"
   ]
  },
  {
   "cell_type": "markdown",
   "metadata": {
    "id": "_bFLu1RoSvVd"
   },
   "source": [
    "### 讀取圖像資訊"
   ]
  },
  {
   "cell_type": "code",
   "execution_count": null,
   "metadata": {
    "id": "yBViAbR1SvVd"
   },
   "outputs": [],
   "source": [
    "print(img2) #色彩是BGR，BG＝0表示無濃度，R=255表示濃度最高\n"
   ]
  },
  {
   "cell_type": "code",
   "execution_count": null,
   "metadata": {
    "id": "UNd4ucrOSvVe"
   },
   "outputs": [],
   "source": [
    "print(img2.shape) # 單色：二維 / 彩色：三維\n",
    "print(img2[0][0])\n",
    "print(img2.size) #取得像素總數\n",
    "print(img2.dtype) # uint8"
   ]
  },
  {
   "cell_type": "code",
   "execution_count": null,
   "metadata": {
    "id": "F391-QBWSvVe"
   },
   "outputs": [],
   "source": [
    "# 分割並讀取三色\n",
    "img_blue = cv2.imread('img/mario.jpg')\n",
    "img_green = cv2.imread('img/mario.jpg')\n",
    "img_red = cv2.imread('img/mario.jpg')\n",
    "#openCV採用 BGR\n",
    "img_blue[:,:,1] = 0    # 將綠色設為 0,只留B\n",
    "img_blue[:,:,2] = 0    # 將紅色設為 0,只留B\n",
    "\n",
    "img_green[:,:,0] = 0   # 將藍色設為 0,只留G\n",
    "img_green[:,:,2] = 0   # 將紅色設為 0,只留G\n",
    "\n",
    "img_red[:,:,0] = 0     # 將藍色設為 0,只留R\n",
    "img_red[:,:,1] = 0     # 將綠色設為 0,只留R\n",
    "\n",
    "cv2.imwrite('瑪利歐B.png', img_blue)\n",
    "cv2.imwrite('瑪利歐G.png', img_green)\n",
    "cv2.imwrite('瑪利歐R.png', img_red)\n",
    "\n",
    "cv2.imshow('blue', img_blue)\n",
    "cv2.imshow('green', img_green)\n",
    "cv2.imshow('red', img_red)#只會顯示最后一張\n",
    "\n",
    "cv2.waitKey(0)\n",
    "cv2.destroyAllWindows()\n"
   ]
  },
  {
   "cell_type": "markdown",
   "metadata": {
    "id": "l4iXTPtQSvVf"
   },
   "source": [
    "### 影像的旋轉、翻轉、縮放"
   ]
  },
  {
   "cell_type": "code",
   "execution_count": null,
   "metadata": {
    "id": "nQtihPa9SvVf"
   },
   "outputs": [],
   "source": [
    "#翻轉\n",
    "img = cv2.imread('img/mario.jpg')\n",
    "output_0 = cv2.flip(img, 0)    # 上下翻轉\n",
    "\n",
    "cv2.imwrite('meme_0.jpg', output_0)\n"
   ]
  },
  {
   "cell_type": "code",
   "execution_count": null,
   "metadata": {
    "id": "gWQn7K_BSvVf"
   },
   "outputs": [],
   "source": [
    "# 旋轉90\n",
    "output = cv2.transpose(img)    # 逆時針旋轉 90 度。\n",
    "cv2.imwrite('瑪利歐旋轉.jpg', output)"
   ]
  },
  {
   "cell_type": "code",
   "execution_count": null,
   "metadata": {
    "id": "vZMc0iP1SvVf"
   },
   "outputs": [],
   "source": [
    "r1_90 = cv2.rotate(img, cv2.ROTATE_90_CLOCKWISE)#順轉90\n",
    "r1_90C = cv2.rotate(img, cv2.ROTATE_90_COUNTERCLOCKWISE)#逆轉90\n",
    "r1_180 = cv2.rotate(img, cv2.ROTATE_180)\n",
    "cv2.imwrite('img/output_1.jpg', r1_90)\n",
    "cv2.imwrite('img/output_2.jpg', r1_90C)\n",
    "cv2.imwrite('img/output_3.jpg', r1_180)"
   ]
  },
  {
   "cell_type": "code",
   "execution_count": null,
   "metadata": {
    "id": "kGYLqx1cSvVg"
   },
   "outputs": [],
   "source": [
    "#縮放\n",
    "output_1 = cv2.resize(img, (200, 200)) # 產生 200x200 的圖\n",
    "\n",
    "cv2.imwrite('img/size200_200.jpg', output_1)#會變形\n"
   ]
  },
  {
   "cell_type": "markdown",
   "metadata": {
    "id": "VNBNA123SvVg"
   },
   "source": [
    "### 影像裁剪"
   ]
  },
  {
   "cell_type": "code",
   "execution_count": null,
   "metadata": {
    "id": "HHVaE9EhSvVg"
   },
   "outputs": [],
   "source": [
    "img3 = cv2.imread('img/mario.jpg')\n",
    "x = 0\n",
    "y = 0\n",
    "w = 200\n",
    "h = 200\n",
    "crop_img = img3[y:y+h, x:x+w] # 取出陣列的範圍\n",
    "cv2.imwrite('瑪利歐3.jpg', crop_img) # 儲存圖片\n",
    "cv2.imshow('myImg', crop_img)\n",
    "\n",
    "cv2.waitKey(0)\n",
    "cv2.destroyAllWindows()\n"
   ]
  },
  {
   "cell_type": "markdown",
   "metadata": {
    "id": "TNc6kqPHSvVg"
   },
   "source": [
    "### 影像特效"
   ]
  },
  {
   "cell_type": "code",
   "execution_count": null,
   "metadata": {
    "id": "SDquZP64SvVh"
   },
   "outputs": [],
   "source": [
    "img4 = cv2.imread('img/mario.jpg')\n",
    "output1 = cv2.blur(img4, (5, 5))     # 指定區域單位為 (5, 5)\n",
    "output2 = cv2.blur(img4, (25, 25))   # 指定區域單位為 (25, 25)\n",
    "\n",
    "cv2.imwrite('瑪利歐41.jpg', output1)\n",
    "cv2.imwrite('瑪利歐42.jpg', output2)\n"
   ]
  },
  {
   "cell_type": "markdown",
   "metadata": {
    "id": "X24oBSwLSvVh"
   },
   "source": [
    "### 影像邊緣偵測"
   ]
  },
  {
   "cell_type": "code",
   "execution_count": null,
   "metadata": {
    "id": "QwRyJOm4SvVh"
   },
   "outputs": [],
   "source": [
    "'''\n",
    "cv2.Laplacian(img, ddepth, ksize, scale)\n",
    "# img 來源影像\n",
    "# ddepth 影像深度，設定 -1 表示使用圖片原本影像深度\n",
    "# ksize 運算區域大小，預設 1 ( 必須是正奇數 )\n",
    "# scale 縮放比例常數，預設 1 ( 必須是正奇數 )\n",
    "'''\n",
    "img5 = cv2.imread('img/mario.jpg')\n",
    "img51 = cv2.cvtColor(img5, cv2.COLOR_BGR2GRAY)  # 轉成灰階\n",
    "img = cv2.medianBlur(img51, 7) # 模糊化，去除雜訊\n",
    "\n",
    "output = cv2.Laplacian(img, -1, 1, 5)        # 偵測邊緣\n",
    "cv2.imwrite('瑪利歐5.jpg', output)"
   ]
  }
 ],
 "metadata": {
  "colab": {
   "provenance": []
  },
  "kernelspec": {
   "display_name": "Py3_12",
   "language": "python",
   "name": "python3"
  },
  "language_info": {
   "codemirror_mode": {
    "name": "ipython",
    "version": 3
   },
   "file_extension": ".py",
   "mimetype": "text/x-python",
   "name": "python",
   "nbconvert_exporter": "python",
   "pygments_lexer": "ipython3",
   "version": "3.12.7"
  }
 },
 "nbformat": 4,
 "nbformat_minor": 0
}
