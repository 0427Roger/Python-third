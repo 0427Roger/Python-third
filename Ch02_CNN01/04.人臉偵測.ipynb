{
 "cells": [
  {
   "cell_type": "markdown",
   "metadata": {},
   "source": [
    "1. 須將 cascade，haarcascades 資料夾複製到資料夾內\n",
    "2. 裡面附有已訓練好的人臉特徵資料"
   ]
  },
  {
   "cell_type": "code",
   "execution_count": 1,
   "metadata": {},
   "outputs": [],
   "source": [
    "import cv2\n",
    "import numpy as np"
   ]
  },
  {
   "cell_type": "code",
   "execution_count": null,
   "metadata": {},
   "outputs": [],
   "source": [
    "img = cv2.imread('img/person01.jpg')#obama.jpg\n",
    "gray = cv2.cvtColor(img, cv2.COLOR_BGR2GRAY)   # 將圖片轉成灰階\n",
    "\n",
    "face_cascade = cv2.CascadeClassifier(\"haarcascades/haarcascade_frontalface_default.xml\") # 載入人臉模型\n",
    "faces = face_cascade.detectMultiScale(gray)    # 偵測人臉\n",
    "\n",
    "for (x, y, w, h) in faces:\n",
    "    cv2.rectangle(img, (x, y), (x+w, y+h), (0, 255, 0), 2)    \n",
    "\n",
    "cv2.imshow('myImg', img)\n",
    "cv2.waitKey(0) # 按下任意鍵停止\n",
    "cv2.destroyAllWindows()\n",
    "cv2.waitKey(1)"
   ]
  },
  {
   "cell_type": "code",
   "execution_count": null,
   "metadata": {},
   "outputs": [],
   "source": [
    "cap = cv2.VideoCapture('img/hamilton_clip.mp4')\n",
    "face_cascade = cv2.CascadeClassifier(\"haarcascades/haarcascade_frontalface_default.xml\")\n",
    "\n",
    "if not cap.isOpened():\n",
    "    print(\"error\")\n",
    "    exit()\n",
    "while True:\n",
    "    ret, frame = cap.read()\n",
    "    if not ret:\n",
    "        print(\"no data\")\n",
    "        break\n",
    "    frame = cv2.resize(frame,(540,320))\n",
    "    gray = cv2.cvtColor(frame, cv2.COLOR_BGR2GRAY) \n",
    "    faces = face_cascade.detectMultiScale(gray)\n",
    "    \n",
    "    for (x, y, w, h) in faces:\n",
    "        cv2.rectangle(frame, (x, y), (x+w, y+h), (0, 255, 0), 2) # 標記人臉\n",
    "    cv2.imshow('myCam', frame)\n",
    "    if cv2.waitKey(1) == ord('q'):\n",
    "        break\n",
    "\n",
    "cap.release()\n",
    "cv2.destroyAllWindows()\n",
    "cv2.waitKey(1)"
   ]
  },
  {
   "cell_type": "markdown",
   "metadata": {},
   "source": [
    "### 五官偵測"
   ]
  },
  {
   "cell_type": "code",
   "execution_count": 4,
   "metadata": {},
   "outputs": [
    {
     "data": {
      "text/plain": [
       "-1"
      ]
     },
     "execution_count": 4,
     "metadata": {},
     "output_type": "execute_result"
    }
   ],
   "source": [
    "import cv2\n",
    "\n",
    "img = cv2.imread('img/obama.jpg')\n",
    "gray = cv2.cvtColor(img, cv2.COLOR_BGR2GRAY)   # 圖片轉灰階\n",
    "#gray = cv2.medianBlur(gray, 5)  # 如果一直偵測到雜訊，可使用模糊的方式去除雜訊\n",
    "\n",
    "eye_cascade = cv2.CascadeClassifier(\"cascade/haarcascade_eye.xml\")  # 使用眼睛模型\n",
    "eyes = eye_cascade.detectMultiScale(gray)                       # 偵測眼睛\n",
    "for (x, y, w, h) in eyes:\n",
    "    cv2.rectangle(img, (x, y), (x+w, y+h), (0, 255, 0), 2)      # 標記綠色方框\n",
    "\n",
    "mouth_cascade = cv2.CascadeClassifier(\"cascade/haarcascade_mcs_mouth.xml\")  # 使用嘴巴模型\n",
    "mouths = mouth_cascade.detectMultiScale(gray)                           # 偵測嘴巴\n",
    "for (x, y, w, h) in mouths:\n",
    "    cv2.rectangle(img, (x, y), (x+w, y+h), (0, 0, 255), 2)              # 標記紅色方框\n",
    "\n",
    "nose_cascade = cv2.CascadeClassifier(\"cascade/haarcascade_mcs_nose.xml\")    # 使用鼻子模型\n",
    "noses = nose_cascade.detectMultiScale(gray)# 偵測鼻子\n",
    "for (x, y, w, h) in noses:\n",
    "    cv2.rectangle(img, (x, y), (x+w, y+h), (255, 0, 0), 2) # 標記藍色方框\n",
    "\n",
    "cv2.imshow('oxxostudio', img)\n",
    "\n",
    "cv2.waitKey(0)   # 按下任意鍵停止\n",
    "cv2.destroyAllWindows()\n",
    "cv2.waitKey(1)"
   ]
  },
  {
   "cell_type": "code",
   "execution_count": null,
   "metadata": {},
   "outputs": [],
   "source": [
    "import cv2\n",
    "\n",
    "cap = cv2.VideoCapture('img/美河市.mp4')#hamilton_clip.mp4\n",
    "eye_cascade = cv2.CascadeClassifier(\"cascade/haarcascade_eye.xml\")          # 使用眼睛模型\n",
    "mouth_cascade = cv2.CascadeClassifier(\"cascade/haarcascade_mcs_mouth.xml\")  # 使用嘴巴模型\n",
    "nose_cascade = cv2.CascadeClassifier(\"cascade/haarcascade_mcs_nose.xml\")    # 使用鼻子模型\n",
    "if not cap.isOpened():\n",
    "    print(\"Cannot open camera\")\n",
    "    exit()\n",
    "while True:\n",
    "    ret, frame = cap.read()\n",
    "    if not ret:\n",
    "        print(\"Cannot receive frame\")\n",
    "        break\n",
    "    img = cv2.resize(frame,(540,320))\n",
    "    gray = cv2.medianBlur(img, 1)\n",
    "    gray = cv2.cvtColor(gray, cv2.COLOR_BGR2GRAY)\n",
    "    gray = cv2.medianBlur(gray, 5)\n",
    "\n",
    "    eyes = eye_cascade.detectMultiScale(gray)      # 偵測眼睛\n",
    "    for (x, y, w, h) in eyes:\n",
    "        cv2.rectangle(img, (x, y), (x+w, y+h), (0, 255, 0), 2)\n",
    "\n",
    "    mouths = mouth_cascade.detectMultiScale(gray)  # 偵測嘴巴\n",
    "    for (x, y, w, h) in mouths:\n",
    "        cv2.rectangle(img, (x, y), (x+w, y+h), (0, 0, 255), 2)\n",
    "\n",
    "    noses = nose_cascade.detectMultiScale(gray)    # 偵測鼻子\n",
    "    for (x, y, w, h) in noses:\n",
    "        cv2.rectangle(img, (x, y), (x+w, y+h), (255, 0, 0), 2)\n",
    "\n",
    "    cv2.imshow('oxxostudio', img)\n",
    "    if cv2.waitKey(1) == ord('q'):\n",
    "        break     # 按下 q 鍵停止\n",
    "cap.release()\n",
    "cv2.destroyAllWindows()\n",
    "cv2.waitKey(1)"
   ]
  }
 ],
 "metadata": {
  "kernelspec": {
   "display_name": "Python 3",
   "language": "python",
   "name": "python3"
  },
  "language_info": {
   "codemirror_mode": {
    "name": "ipython",
    "version": 3
   },
   "file_extension": ".py",
   "mimetype": "text/x-python",
   "name": "python",
   "nbconvert_exporter": "python",
   "pygments_lexer": "ipython3",
   "version": "3.12.3"
  }
 },
 "nbformat": 4,
 "nbformat_minor": 2
}
