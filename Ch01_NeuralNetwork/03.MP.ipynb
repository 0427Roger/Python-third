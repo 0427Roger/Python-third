{
 "cells": [
  {
   "cell_type": "code",
   "execution_count": 1,
   "metadata": {
    "executionInfo": {
     "elapsed": 1632,
     "status": "ok",
     "timestamp": 1699357966868,
     "user": {
      "displayName": "ELSA",
      "userId": "12819283556995342183"
     },
     "user_tz": -480
    },
    "id": "UzteLrVCoFG0"
   },
   "outputs": [],
   "source": [
    "import numpy as np\n",
    "import pandas as pd\n",
    "import matplotlib.pyplot as plt"
   ]
  },
  {
   "cell_type": "code",
   "execution_count": 2,
   "metadata": {
    "colab": {
     "base_uri": "https://localhost:8080/"
    },
    "executionInfo": {
     "elapsed": 4725,
     "status": "ok",
     "timestamp": 1699358136142,
     "user": {
      "displayName": "ELSA",
      "userId": "12819283556995342183"
     },
     "user_tz": -480
    },
    "id": "bhWe-t2koFG1",
    "outputId": "de0e1c14-b9fb-4fcf-898c-7ce5c5dda107"
   },
   "outputs": [
    {
     "data": {
      "text/plain": [
       "((60000, 28, 28), (60000,), (10000, 28, 28), (10000,))"
      ]
     },
     "execution_count": 2,
     "metadata": {},
     "output_type": "execute_result"
    }
   ],
   "source": [
    "# Data\n",
    "from tensorflow.keras.datasets import fashion_mnist\n",
    "\n",
    "(x_train_set, y_train_set), (x_test, y_test) = fashion_mnist.load_data()\n",
    "x_train_set.shape, y_train_set.shape, x_test.shape, y_test. shape"
   ]
  },
  {
   "cell_type": "code",
   "execution_count": 3,
   "metadata": {
    "colab": {
     "base_uri": "https://localhost:8080/"
    },
    "executionInfo": {
     "elapsed": 296,
     "status": "ok",
     "timestamp": 1699358352158,
     "user": {
      "displayName": "ELSA",
      "userId": "12819283556995342183"
     },
     "user_tz": -480
    },
    "id": "i3i7kKgxpQs-",
    "outputId": "e17a7161-8262-4445-ad19-05634febe055"
   },
   "outputs": [
    {
     "name": "stdout",
     "output_type": "stream",
     "text": [
      "9\n",
      "[[  0   0   0   0   0   0   0   0   0   0   0   0   0   0   0   0   0   0\n",
      "    0   0   0   0   0   0   0   0   0   0]\n",
      " [  0   0   0   0   0   0   0   0   0   0   0   0   0   0   0   0   0   0\n",
      "    0   0   0   0   0   0   0   0   0   0]\n",
      " [  0   0   0   0   0   0   0   0   0   0   0   0   0   0   0   0   0   0\n",
      "    0   0   0   0   0   0   0   0   0   0]\n",
      " [  0   0   0   0   0   0   0   0   0   0   0   0   1   0   0  13  73   0\n",
      "    0   1   4   0   0   0   0   1   1   0]\n",
      " [  0   0   0   0   0   0   0   0   0   0   0   0   3   0  36 136 127  62\n",
      "   54   0   0   0   1   3   4   0   0   3]\n",
      " [  0   0   0   0   0   0   0   0   0   0   0   0   6   0 102 204 176 134\n",
      "  144 123  23   0   0   0   0  12  10   0]\n",
      " [  0   0   0   0   0   0   0   0   0   0   0   0   0   0 155 236 207 178\n",
      "  107 156 161 109  64  23  77 130  72  15]\n",
      " [  0   0   0   0   0   0   0   0   0   0   0   1   0  69 207 223 218 216\n",
      "  216 163 127 121 122 146 141  88 172  66]\n",
      " [  0   0   0   0   0   0   0   0   0   1   1   1   0 200 232 232 233 229\n",
      "  223 223 215 213 164 127 123 196 229   0]\n",
      " [  0   0   0   0   0   0   0   0   0   0   0   0   0 183 225 216 223 228\n",
      "  235 227 224 222 224 221 223 245 173   0]\n",
      " [  0   0   0   0   0   0   0   0   0   0   0   0   0 193 228 218 213 198\n",
      "  180 212 210 211 213 223 220 243 202   0]\n",
      " [  0   0   0   0   0   0   0   0   0   1   3   0  12 219 220 212 218 192\n",
      "  169 227 208 218 224 212 226 197 209  52]\n",
      " [  0   0   0   0   0   0   0   0   0   0   6   0  99 244 222 220 218 203\n",
      "  198 221 215 213 222 220 245 119 167  56]\n",
      " [  0   0   0   0   0   0   0   0   0   4   0   0  55 236 228 230 228 240\n",
      "  232 213 218 223 234 217 217 209  92   0]\n",
      " [  0   0   1   4   6   7   2   0   0   0   0   0 237 226 217 223 222 219\n",
      "  222 221 216 223 229 215 218 255  77   0]\n",
      " [  0   3   0   0   0   0   0   0   0  62 145 204 228 207 213 221 218 208\n",
      "  211 218 224 223 219 215 224 244 159   0]\n",
      " [  0   0   0   0  18  44  82 107 189 228 220 222 217 226 200 205 211 230\n",
      "  224 234 176 188 250 248 233 238 215   0]\n",
      " [  0  57 187 208 224 221 224 208 204 214 208 209 200 159 245 193 206 223\n",
      "  255 255 221 234 221 211 220 232 246   0]\n",
      " [  3 202 228 224 221 211 211 214 205 205 205 220 240  80 150 255 229 221\n",
      "  188 154 191 210 204 209 222 228 225   0]\n",
      " [ 98 233 198 210 222 229 229 234 249 220 194 215 217 241  65  73 106 117\n",
      "  168 219 221 215 217 223 223 224 229  29]\n",
      " [ 75 204 212 204 193 205 211 225 216 185 197 206 198 213 240 195 227 245\n",
      "  239 223 218 212 209 222 220 221 230  67]\n",
      " [ 48 203 183 194 213 197 185 190 194 192 202 214 219 221 220 236 225 216\n",
      "  199 206 186 181 177 172 181 205 206 115]\n",
      " [  0 122 219 193 179 171 183 196 204 210 213 207 211 210 200 196 194 191\n",
      "  195 191 198 192 176 156 167 177 210  92]\n",
      " [  0   0  74 189 212 191 175 172 175 181 185 188 189 188 193 198 204 209\n",
      "  210 210 211 188 188 194 192 216 170   0]\n",
      " [  2   0   0   0  66 200 222 237 239 242 246 243 244 221 220 193 191 179\n",
      "  182 182 181 176 166 168  99  58   0   0]\n",
      " [  0   0   0   0   0   0   0  40  61  44  72  41  35   0   0   0   0   0\n",
      "    0   0   0   0   0   0   0   0   0   0]\n",
      " [  0   0   0   0   0   0   0   0   0   0   0   0   0   0   0   0   0   0\n",
      "    0   0   0   0   0   0   0   0   0   0]\n",
      " [  0   0   0   0   0   0   0   0   0   0   0   0   0   0   0   0   0   0\n",
      "    0   0   0   0   0   0   0   0   0   0]]\n"
     ]
    }
   ],
   "source": [
    "print(y_train_set[0])\n",
    "print(x_train_set[0])"
   ]
  },
  {
   "cell_type": "code",
   "execution_count": 4,
   "metadata": {
    "colab": {
     "base_uri": "https://localhost:8080/",
     "height": 447
    },
    "executionInfo": {
     "elapsed": 5,
     "status": "ok",
     "timestamp": 1699360091289,
     "user": {
      "displayName": "ELSA",
      "userId": "12819283556995342183"
     },
     "user_tz": -480
    },
    "id": "oz_17X5MoFG3",
    "outputId": "b88c3b9e-4fbc-4b6a-994d-67aad7aa3275"
   },
   "outputs": [
    {
     "name": "stdout",
     "output_type": "stream",
     "text": [
      "9\n"
     ]
    },
    {
     "data": {
      "image/png": "[encoded data removed]",
      "text/plain": [
       "<Figure size 640x480 with 1 Axes>"
      ]
     },
     "metadata": {},
     "output_type": "display_data"
    }
   ],
   "source": [
    "i = 0\n",
    "print(y_train_set [i])\n",
    "plt.imshow(x_train_set[i], cmap='binary')\n",
    "plt.show()"
   ]
  },
  {
   "cell_type": "code",
   "execution_count": 5,
   "metadata": {
    "executionInfo": {
     "elapsed": 1487,
     "status": "ok",
     "timestamp": 1699360221559,
     "user": {
      "displayName": "ELSA",
      "userId": "12819283556995342183"
     },
     "user_tz": -480
    },
    "id": "-vUv9LcxoFG3"
   },
   "outputs": [],
   "source": [
    "# Split data\n",
    "from sklearn.model_selection import train_test_split\n",
    "\n",
    "x_train, x_valid, y_train, y_valid = train_test_split(x_train_set,\n",
    "                                                      y_train_set,\n",
    "                                                      random_state=1)"
   ]
  },
  {
   "cell_type": "code",
   "execution_count": 7,
   "metadata": {
    "colab": {
     "base_uri": "https://localhost:8080/"
    },
    "executionInfo": {
     "elapsed": 294,
     "status": "ok",
     "timestamp": 1699360260170,
     "user": {
      "displayName": "ELSA",
      "userId": "12819283556995342183"
     },
     "user_tz": -480
    },
    "id": "H9vXifC4wz7c",
    "outputId": "85c0731b-1fc2-47b1-96ba-1b02f6e967da"
   },
   "outputs": [
    {
     "data": {
      "text/plain": [
       "((45000, 28, 28), (15000, 28, 28))"
      ]
     },
     "execution_count": 7,
     "metadata": {},
     "output_type": "execute_result"
    }
   ],
   "source": [
    "x_train.shape, x_valid.shape"
   ]
  },
  {
   "cell_type": "code",
   "execution_count": 9,
   "metadata": {
    "id": "-DJ1ftjUoFG3"
   },
   "outputs": [
    {
     "name": "stdout",
     "output_type": "stream",
     "text": [
      "[[  0   0   0   0   0   0   1   0   0   0   0  63   0   0   0   0   0  22\n",
      "   10   0   0   0   3   0   0   0   0   0]\n",
      " [  0   0   0   1   0   1   0   0   0 113 226 247 216 185 147 146 207 235\n",
      "  210 136  15   0   0   2   0   0   0   0]\n",
      " [  0   0   0   0   2   0   0 138 221 234 222 218 243 255 255 255 255 223\n",
      "  218 235 223 172   0   0   4   0   0   0]\n",
      " [  0   0   0   2   0   0 205 239 215 212 214 206 213 216 220 220 216 213\n",
      "  218 214 212 239 213   0   0   0   0   0]\n",
      " [  0   0   0   0   0 163 236 208 215 216 217 215 215 215 209 212 215 215\n",
      "  215 219 218 206 234 100   0   0   0   0]\n",
      " [  0   0   0   0  47 234 215 215 215 215 214 214 215 214 215 216 216 215\n",
      "  215 215 217 215 223 232   0   0   0   0]\n",
      " [  0   0   0   0 189 231 222 214 214 215 215 215 215 215 214 215 216 216\n",
      "  216 218 217 218 219 238  78   0   0   0]\n",
      " [  0   0   0   0 217 216 229 225 215 216 214 215 215 214 214 215 215 216\n",
      "  217 218 217 221 225 230 194   0   0   0]\n",
      " [  0   0   0 130 235 209 225 233 211 214 216 216 217 216 214 215 215 216\n",
      "  218 219 212 226 221 221 208   0   0   0]\n",
      " [  0   0   0 159 208 231 246 254 222 212 224 218 217 219 219 219 218 218\n",
      "  221 217 219 253 242 237 240  61   0   0]\n",
      " [  0   0   0   0   0  49 150 226 244 207 225 219 217 218 219 219 218 219\n",
      "  223 212 241 229 165 119  67   0   0   0]\n",
      " [  0   0   0   0   0   0   0   0 220 225 218 216 217 218 218 218 217 218\n",
      "  224 203 255  42   0   0   0   0   0   0]\n",
      " [  0   0   0   0   2   3   0   0 206 222 213 218 214 218 217 217 219 216\n",
      "  222 209 255  69   0   5   5   2   0   0]\n",
      " [  0   0   0   0   0   0   0   0 207 222 214 217 215 217 217 217 218 218\n",
      "  223 209 227  55   0   3   0   0   0   0]\n",
      " [  0   0   0   0   0   1   0   0 214 220 217 215 219 215 217 217 219 217\n",
      "  221 210 219  35   0   5   0   0   0   0]\n",
      " [  0   0   0   0   0   1   0   0 218 220 217 213 221 214 217 217 219 215\n",
      "  219 212 215  22   0   4   0   0   0   0]\n",
      " [  0   0   0   0   0   1   0   0 218 224 214 213 219 216 219 219 220 218\n",
      "  218 212 217  30   0   4   0   0   0   0]\n",
      " [  0   0   0   0   0   1   0   0 210 227 212 215 219 217 218 218 220 216\n",
      "  214 213 218  30   0   5   0   0   0   0]\n",
      " [  0   0   0   0   0   1   0   0 214 228 210 218 218 217 218 219 218 222\n",
      "  224 209 217  34   0   6   0   0   0   0]\n",
      " [  0   0   0   0   0   0   0   0 226 225 207 219 218 218 218 219 218 218\n",
      "  233 209 221  42   0   6   0   0   0   0]\n",
      " [  0   0   0   0   0   0   0   0 229 222 206 219 219 219 217 218 220 216\n",
      "  232 215 222  49   0   7   0   0   0   0]\n",
      " [  0   0   0   0   0   1   0   0 225 220 210 220 219 219 218 219 221 218\n",
      "  221 220 222  49   0   7   0   0   0   0]\n",
      " [  0   0   0   0   0   1   0   0 228 217 212 222 219 219 219 220 221 220\n",
      "  215 219 225  28   0   6   0   0   0   0]\n",
      " [  0   0   0   0   0   1   0   0 236 215 216 220 219 220 220 219 222 222\n",
      "  219 215 227  85   0   7   0   0   0   0]\n",
      " [  0   0   0   0   0   1   0   0 194 216 217 218 219 220 219 218 221 221\n",
      "  223 215 227 129   0   5   0   0   0   0]\n",
      " [  0   0   0   0   0   1   0   0 190 214 215 212 213 213 212 212 214 217\n",
      "  216 213 217   0   0   5   0   0   0   0]\n",
      " [  0   0   0   0   0   2   0   0 211 230 228 252 252 252 250 250 252 255\n",
      "  253 225 238  56   0   6   0   0   0   0]\n",
      " [  0   0   0   0   0   1   0   0 110 109 121 126 133 132 130 130 130 129\n",
      "  129 129 160  18   0   4   0   0   0   0]]\n",
      "[[0.         0.         0.         0.         0.         0.\n",
      "  0.00392157 0.         0.         0.         0.         0.24705882\n",
      "  0.         0.         0.         0.         0.         0.08627451\n",
      "  0.03921569 0.         0.         0.         0.01176471 0.\n",
      "  0.         0.         0.         0.        ]\n",
      " [0.         0.         0.         0.00392157 0.         0.00392157\n",
      "  0.         0.         0.         0.44313725 0.88627451 0.96862745\n",
      "  0.84705882 0.7254902  0.57647059 0.57254902 0.81176471 0.92156863\n",
      "  0.82352941 0.53333333 0.05882353 0.         0.         0.00784314\n",
      "  0.         0.         0.         0.        ]\n",
      " [0.         0.         0.         0.         0.00784314 0.\n",
      "  0.         0.54117647 0.86666667 0.91764706 0.87058824 0.85490196\n",
      "  0.95294118 1.         1.         1.         1.         0.8745098\n",
      "  0.85490196 0.92156863 0.8745098  0.6745098  0.         0.\n",
      "  0.01568627 0.         0.         0.        ]\n",
      " [0.         0.         0.         0.00784314 0.         0.\n",
      "  0.80392157 0.9372549  0.84313725 0.83137255 0.83921569 0.80784314\n",
      "  0.83529412 0.84705882 0.8627451  0.8627451  0.84705882 0.83529412\n",
      "  0.85490196 0.83921569 0.83137255 0.9372549  0.83529412 0.\n",
      "  0.         0.         0.         0.        ]\n",
      " [0.         0.         0.         0.         0.         0.63921569\n",
      "  0.9254902  0.81568627 0.84313725 0.84705882 0.85098039 0.84313725\n",
      "  0.84313725 0.84313725 0.81960784 0.83137255 0.84313725 0.84313725\n",
      "  0.84313725 0.85882353 0.85490196 0.80784314 0.91764706 0.39215686\n",
      "  0.         0.         0.         0.        ]\n",
      " [0.         0.         0.         0.         0.18431373 0.91764706\n",
      "  0.84313725 0.84313725 0.84313725 0.84313725 0.83921569 0.83921569\n",
      "  0.84313725 0.83921569 0.84313725 0.84705882 0.84705882 0.84313725\n",
      "  0.84313725 0.84313725 0.85098039 0.84313725 0.8745098  0.90980392\n",
      "  0.         0.         0.         0.        ]\n",
      " [0.         0.         0.         0.         0.74117647 0.90588235\n",
      "  0.87058824 0.83921569 0.83921569 0.84313725 0.84313725 0.84313725\n",
      "  0.84313725 0.84313725 0.83921569 0.84313725 0.84705882 0.84705882\n",
      "  0.84705882 0.85490196 0.85098039 0.85490196 0.85882353 0.93333333\n",
      "  0.30588235 0.         0.         0.        ]\n",
      " [0.         0.         0.         0.         0.85098039 0.84705882\n",
      "  0.89803922 0.88235294 0.84313725 0.84705882 0.83921569 0.84313725\n",
      "  0.84313725 0.83921569 0.83921569 0.84313725 0.84313725 0.84705882\n",
      "  0.85098039 0.85490196 0.85098039 0.86666667 0.88235294 0.90196078\n",
      "  0.76078431 0.         0.         0.        ]\n",
      " [0.         0.         0.         0.50980392 0.92156863 0.81960784\n",
      "  0.88235294 0.91372549 0.82745098 0.83921569 0.84705882 0.84705882\n",
      "  0.85098039 0.84705882 0.83921569 0.84313725 0.84313725 0.84705882\n",
      "  0.85490196 0.85882353 0.83137255 0.88627451 0.86666667 0.86666667\n",
      "  0.81568627 0.         0.         0.        ]\n",
      " [0.         0.         0.         0.62352941 0.81568627 0.90588235\n",
      "  0.96470588 0.99607843 0.87058824 0.83137255 0.87843137 0.85490196\n",
      "  0.85098039 0.85882353 0.85882353 0.85882353 0.85490196 0.85490196\n",
      "  0.86666667 0.85098039 0.85882353 0.99215686 0.94901961 0.92941176\n",
      "  0.94117647 0.23921569 0.         0.        ]\n",
      " [0.         0.         0.         0.         0.         0.19215686\n",
      "  0.58823529 0.88627451 0.95686275 0.81176471 0.88235294 0.85882353\n",
      "  0.85098039 0.85490196 0.85882353 0.85882353 0.85490196 0.85882353\n",
      "  0.8745098  0.83137255 0.94509804 0.89803922 0.64705882 0.46666667\n",
      "  0.2627451  0.         0.         0.        ]\n",
      " [0.         0.         0.         0.         0.         0.\n",
      "  0.         0.         0.8627451  0.88235294 0.85490196 0.84705882\n",
      "  0.85098039 0.85490196 0.85490196 0.85490196 0.85098039 0.85490196\n",
      "  0.87843137 0.79607843 1.         0.16470588 0.         0.\n",
      "  0.         0.         0.         0.        ]\n",
      " [0.         0.         0.         0.         0.00784314 0.01176471\n",
      "  0.         0.         0.80784314 0.87058824 0.83529412 0.85490196\n",
      "  0.83921569 0.85490196 0.85098039 0.85098039 0.85882353 0.84705882\n",
      "  0.87058824 0.81960784 1.         0.27058824 0.         0.01960784\n",
      "  0.01960784 0.00784314 0.         0.        ]\n",
      " [0.         0.         0.         0.         0.         0.\n",
      "  0.         0.         0.81176471 0.87058824 0.83921569 0.85098039\n",
      "  0.84313725 0.85098039 0.85098039 0.85098039 0.85490196 0.85490196\n",
      "  0.8745098  0.81960784 0.89019608 0.21568627 0.         0.01176471\n",
      "  0.         0.         0.         0.        ]\n",
      " [0.         0.         0.         0.         0.         0.00392157\n",
      "  0.         0.         0.83921569 0.8627451  0.85098039 0.84313725\n",
      "  0.85882353 0.84313725 0.85098039 0.85098039 0.85882353 0.85098039\n",
      "  0.86666667 0.82352941 0.85882353 0.1372549  0.         0.01960784\n",
      "  0.         0.         0.         0.        ]\n",
      " [0.         0.         0.         0.         0.         0.00392157\n",
      "  0.         0.         0.85490196 0.8627451  0.85098039 0.83529412\n",
      "  0.86666667 0.83921569 0.85098039 0.85098039 0.85882353 0.84313725\n",
      "  0.85882353 0.83137255 0.84313725 0.08627451 0.         0.01568627\n",
      "  0.         0.         0.         0.        ]\n",
      " [0.         0.         0.         0.         0.         0.00392157\n",
      "  0.         0.         0.85490196 0.87843137 0.83921569 0.83529412\n",
      "  0.85882353 0.84705882 0.85882353 0.85882353 0.8627451  0.85490196\n",
      "  0.85490196 0.83137255 0.85098039 0.11764706 0.         0.01568627\n",
      "  0.         0.         0.         0.        ]\n",
      " [0.         0.         0.         0.         0.         0.00392157\n",
      "  0.         0.         0.82352941 0.89019608 0.83137255 0.84313725\n",
      "  0.85882353 0.85098039 0.85490196 0.85490196 0.8627451  0.84705882\n",
      "  0.83921569 0.83529412 0.85490196 0.11764706 0.         0.01960784\n",
      "  0.         0.         0.         0.        ]\n",
      " [0.         0.         0.         0.         0.         0.00392157\n",
      "  0.         0.         0.83921569 0.89411765 0.82352941 0.85490196\n",
      "  0.85490196 0.85098039 0.85490196 0.85882353 0.85490196 0.87058824\n",
      "  0.87843137 0.81960784 0.85098039 0.13333333 0.         0.02352941\n",
      "  0.         0.         0.         0.        ]\n",
      " [0.         0.         0.         0.         0.         0.\n",
      "  0.         0.         0.88627451 0.88235294 0.81176471 0.85882353\n",
      "  0.85490196 0.85490196 0.85490196 0.85882353 0.85490196 0.85490196\n",
      "  0.91372549 0.81960784 0.86666667 0.16470588 0.         0.02352941\n",
      "  0.         0.         0.         0.        ]\n",
      " [0.         0.         0.         0.         0.         0.\n",
      "  0.         0.         0.89803922 0.87058824 0.80784314 0.85882353\n",
      "  0.85882353 0.85882353 0.85098039 0.85490196 0.8627451  0.84705882\n",
      "  0.90980392 0.84313725 0.87058824 0.19215686 0.         0.02745098\n",
      "  0.         0.         0.         0.        ]\n",
      " [0.         0.         0.         0.         0.         0.00392157\n",
      "  0.         0.         0.88235294 0.8627451  0.82352941 0.8627451\n",
      "  0.85882353 0.85882353 0.85490196 0.85882353 0.86666667 0.85490196\n",
      "  0.86666667 0.8627451  0.87058824 0.19215686 0.         0.02745098\n",
      "  0.         0.         0.         0.        ]\n",
      " [0.         0.         0.         0.         0.         0.00392157\n",
      "  0.         0.         0.89411765 0.85098039 0.83137255 0.87058824\n",
      "  0.85882353 0.85882353 0.85882353 0.8627451  0.86666667 0.8627451\n",
      "  0.84313725 0.85882353 0.88235294 0.10980392 0.         0.02352941\n",
      "  0.         0.         0.         0.        ]\n",
      " [0.         0.         0.         0.         0.         0.00392157\n",
      "  0.         0.         0.9254902  0.84313725 0.84705882 0.8627451\n",
      "  0.85882353 0.8627451  0.8627451  0.85882353 0.87058824 0.87058824\n",
      "  0.85882353 0.84313725 0.89019608 0.33333333 0.         0.02745098\n",
      "  0.         0.         0.         0.        ]\n",
      " [0.         0.         0.         0.         0.         0.00392157\n",
      "  0.         0.         0.76078431 0.84705882 0.85098039 0.85490196\n",
      "  0.85882353 0.8627451  0.85882353 0.85490196 0.86666667 0.86666667\n",
      "  0.8745098  0.84313725 0.89019608 0.50588235 0.         0.01960784\n",
      "  0.         0.         0.         0.        ]\n",
      " [0.         0.         0.         0.         0.         0.00392157\n",
      "  0.         0.         0.74509804 0.83921569 0.84313725 0.83137255\n",
      "  0.83529412 0.83529412 0.83137255 0.83137255 0.83921569 0.85098039\n",
      "  0.84705882 0.83529412 0.85098039 0.         0.         0.01960784\n",
      "  0.         0.         0.         0.        ]\n",
      " [0.         0.         0.         0.         0.         0.00784314\n",
      "  0.         0.         0.82745098 0.90196078 0.89411765 0.98823529\n",
      "  0.98823529 0.98823529 0.98039216 0.98039216 0.98823529 1.\n",
      "  0.99215686 0.88235294 0.93333333 0.21960784 0.         0.02352941\n",
      "  0.         0.         0.         0.        ]\n",
      " [0.         0.         0.         0.         0.         0.00392157\n",
      "  0.         0.         0.43137255 0.42745098 0.4745098  0.49411765\n",
      "  0.52156863 0.51764706 0.50980392 0.50980392 0.50980392 0.50588235\n",
      "  0.50588235 0.50588235 0.62745098 0.07058824 0.         0.01568627\n",
      "  0.         0.         0.         0.        ]]\n"
     ]
    }
   ],
   "source": [
    "print(x_train[0])\n",
    "x_train2 = x_train / 255.0\n",
    "print(x_train2[0])"
   ]
  },
  {
   "cell_type": "code",
   "execution_count": 11,
   "metadata": {
    "colab": {
     "base_uri": "https://localhost:8080/"
    },
    "executionInfo": {
     "elapsed": 298,
     "status": "ok",
     "timestamp": 1699360399881,
     "user": {
      "displayName": "ELSA",
      "userId": "12819283556995342183"
     },
     "user_tz": -480
    },
    "id": "ZD70_h3PoFG4",
    "outputId": "c9a0b3f6-3e84-49a9-a709-007193d94fe8"
   },
   "outputs": [
    {
     "name": "stdout",
     "output_type": "stream",
     "text": [
      "(45000, 28, 28) (15000, 28, 28) (10000, 28, 28)\n"
     ]
    }
   ],
   "source": [
    "# Preprocessing\n",
    "x_train = x_train / 255.0\n",
    "x_valid =x_valid / 255.0\n",
    "x_test = x_test / 255.0\n",
    "print(x_train.shape, x_valid.shape, x_test.shape)"
   ]
  },
  {
   "cell_type": "code",
   "execution_count": 15,
   "metadata": {
    "executionInfo": {
     "elapsed": 501,
     "status": "ok",
     "timestamp": 1699360485137,
     "user": {
      "displayName": "ELSA",
      "userId": "12819283556995342183"
     },
     "user_tz": -480
    },
    "id": "XL6cPgKioFG4"
   },
   "outputs": [],
   "source": [
    "# Build Model\n",
    "import tensorflow as tf\n",
    "from tensorflow import keras\n",
    "from tensorflow.keras.models import Sequential\n",
    "from tensorflow.keras.layers import Flatten, Dense"
   ]
  },
  {
   "cell_type": "code",
   "execution_count": 10,
   "metadata": {
    "executionInfo": {
     "elapsed": 312,
     "status": "ok",
     "timestamp": 1699360705067,
     "user": {
      "displayName": "ELSA",
      "userId": "12819283556995342183"
     },
     "user_tz": -480
    },
    "id": "9CUv_A20oFG4"
   },
   "outputs": [
    {
     "name": "stdout",
     "output_type": "stream",
     "text": [
      "WARNING:tensorflow:From c:\\Users\\123\\AppData\\Local\\Programs\\Python\\Python312\\Lib\\site-packages\\keras\\src\\backend\\common\\global_state.py:82: The name tf.reset_default_graph is deprecated. Please use tf.compat.v1.reset_default_graph instead.\n",
      "\n"
     ]
    }
   ],
   "source": [
    "keras.backend.clear_session()\n",
    "np. random. seed (1)\n",
    "tf.random.set_seed(1)"
   ]
  },
  {
   "cell_type": "code",
   "execution_count": 17,
   "metadata": {
    "executionInfo": {
     "elapsed": 309,
     "status": "ok",
     "timestamp": 1699361075088,
     "user": {
      "displayName": "ELSA",
      "userId": "12819283556995342183"
     },
     "user_tz": -480
    },
    "id": "am-rRrX4oFG4"
   },
   "outputs": [
    {
     "name": "stderr",
     "output_type": "stream",
     "text": [
      "C:\\Users\\ELSA\\anaconda3\\Lib\\site-packages\\keras\\src\\layers\\reshaping\\flatten.py:37: UserWarning: Do not pass an `input_shape`/`input_dim` argument to a layer. When using Sequential models, prefer using an `Input(shape)` object as the first layer in the model instead.\n",
      "  super().__init__(**kwargs)\n"
     ]
    }
   ],
   "source": [
    "model = Sequential([\n",
    "    #輸入層：將 28*28攤平成一維度\n",
    "    Flatten(input_shape=x_train.shape[1:]),\n",
    "    #輸出層：10類別，10個神經元\n",
    "    Dense (units=10, activation='softmax')\n",
    "])"
   ]
  },
  {
   "cell_type": "code",
   "execution_count": 31,
   "metadata": {},
   "outputs": [
    {
     "name": "stdout",
     "output_type": "stream",
     "text": [
      "Python 3.12.4\n"
     ]
    }
   ],
   "source": [
    "!python --version"
   ]
  },
  {
   "cell_type": "code",
   "execution_count": 19,
   "metadata": {
    "colab": {
     "base_uri": "https://localhost:8080/"
    },
    "executionInfo": {
     "elapsed": 312,
     "status": "ok",
     "timestamp": 1699361099964,
     "user": {
      "displayName": "ELSA",
      "userId": "12819283556995342183"
     },
     "user_tz": -480
    },
    "id": "9tHiJ9JIoFG5",
    "outputId": "dff2cb04-e600-4d9b-d5be-52d7f013b371"
   },
   "outputs": [
    {
     "data": {
      "text/html": [
       "<pre style=\"white-space:pre;overflow-x:auto;line-height:normal;font-family:Menlo,'DejaVu Sans Mono',consolas,'Courier New',monospace\"><span style=\"font-weight: bold\">Model: \"sequential\"</span>\n",
       "</pre>\n"
      ],
      "text/plain": [
       "\u001b[1mModel: \"sequential\"\u001b[0m\n"
      ]
     },
     "metadata": {},
     "output_type": "display_data"
    },
    {
     "data": {
      "text/html": [
       "<pre style=\"white-space:pre;overflow-x:auto;line-height:normal;font-family:Menlo,'DejaVu Sans Mono',consolas,'Courier New',monospace\">┏━━━━━━━━━━━━━━━━━━━━━━━━━━━━━━━━━━━━━━┳━━━━━━━━━━━━━━━━━━━━━━━━━━━━━┳━━━━━━━━━━━━━━━━━┓\n",
       "┃<span style=\"font-weight: bold\"> Layer (type)                         </span>┃<span style=\"font-weight: bold\"> Output Shape                </span>┃<span style=\"font-weight: bold\">         Param # </span>┃\n",
       "┡━━━━━━━━━━━━━━━━━━━━━━━━━━━━━━━━━━━━━━╇━━━━━━━━━━━━━━━━━━━━━━━━━━━━━╇━━━━━━━━━━━━━━━━━┩\n",
       "│ flatten (<span style=\"color: #0087ff; text-decoration-color: #0087ff\">Flatten</span>)                    │ (<span style=\"color: #00d7ff; text-decoration-color: #00d7ff\">None</span>, <span style=\"color: #00af00; text-decoration-color: #00af00\">784</span>)                 │               <span style=\"color: #00af00; text-decoration-color: #00af00\">0</span> │\n",
       "├──────────────────────────────────────┼─────────────────────────────┼─────────────────┤\n",
       "│ dense (<span style=\"color: #0087ff; text-decoration-color: #0087ff\">Dense</span>)                        │ (<span style=\"color: #00d7ff; text-decoration-color: #00d7ff\">None</span>, <span style=\"color: #00af00; text-decoration-color: #00af00\">10</span>)                  │           <span style=\"color: #00af00; text-decoration-color: #00af00\">7,850</span> │\n",
       "└──────────────────────────────────────┴─────────────────────────────┴─────────────────┘\n",
       "</pre>\n"
      ],
      "text/plain": [
       "┏━━━━━━━━━━━━━━━━━━━━━━━━━━━━━━━━━━━━━━┳━━━━━━━━━━━━━━━━━━━━━━━━━━━━━┳━━━━━━━━━━━━━━━━━┓\n",
       "┃\u001b[1m \u001b[0m\u001b[1mLayer (type)                        \u001b[0m\u001b[1m \u001b[0m┃\u001b[1m \u001b[0m\u001b[1mOutput Shape               \u001b[0m\u001b[1m \u001b[0m┃\u001b[1m \u001b[0m\u001b[1m        Param #\u001b[0m\u001b[1m \u001b[0m┃\n",
       "┡━━━━━━━━━━━━━━━━━━━━━━━━━━━━━━━━━━━━━━╇━━━━━━━━━━━━━━━━━━━━━━━━━━━━━╇━━━━━━━━━━━━━━━━━┩\n",
       "│ flatten (\u001b[38;5;33mFlatten\u001b[0m)                    │ (\u001b[38;5;45mNone\u001b[0m, \u001b[38;5;34m784\u001b[0m)                 │               \u001b[38;5;34m0\u001b[0m │\n",
       "├──────────────────────────────────────┼─────────────────────────────┼─────────────────┤\n",
       "│ dense (\u001b[38;5;33mDense\u001b[0m)                        │ (\u001b[38;5;45mNone\u001b[0m, \u001b[38;5;34m10\u001b[0m)                  │           \u001b[38;5;34m7,850\u001b[0m │\n",
       "└──────────────────────────────────────┴─────────────────────────────┴─────────────────┘\n"
      ]
     },
     "metadata": {},
     "output_type": "display_data"
    },
    {
     "data": {
      "text/html": [
       "<pre style=\"white-space:pre;overflow-x:auto;line-height:normal;font-family:Menlo,'DejaVu Sans Mono',consolas,'Courier New',monospace\"><span style=\"font-weight: bold\"> Total params: </span><span style=\"color: #00af00; text-decoration-color: #00af00\">7,850</span> (30.66 KB)\n",
       "</pre>\n"
      ],
      "text/plain": [
       "\u001b[1m Total params: \u001b[0m\u001b[38;5;34m7,850\u001b[0m (30.66 KB)\n"
      ]
     },
     "metadata": {},
     "output_type": "display_data"
    },
    {
     "data": {
      "text/html": [
       "<pre style=\"white-space:pre;overflow-x:auto;line-height:normal;font-family:Menlo,'DejaVu Sans Mono',consolas,'Courier New',monospace\"><span style=\"font-weight: bold\"> Trainable params: </span><span style=\"color: #00af00; text-decoration-color: #00af00\">7,850</span> (30.66 KB)\n",
       "</pre>\n"
      ],
      "text/plain": [
       "\u001b[1m Trainable params: \u001b[0m\u001b[38;5;34m7,850\u001b[0m (30.66 KB)\n"
      ]
     },
     "metadata": {},
     "output_type": "display_data"
    },
    {
     "data": {
      "text/html": [
       "<pre style=\"white-space:pre;overflow-x:auto;line-height:normal;font-family:Menlo,'DejaVu Sans Mono',consolas,'Courier New',monospace\"><span style=\"font-weight: bold\"> Non-trainable params: </span><span style=\"color: #00af00; text-decoration-color: #00af00\">0</span> (0.00 B)\n",
       "</pre>\n"
      ],
      "text/plain": [
       "\u001b[1m Non-trainable params: \u001b[0m\u001b[38;5;34m0\u001b[0m (0.00 B)\n"
      ]
     },
     "metadata": {},
     "output_type": "display_data"
    }
   ],
   "source": [
    "model.summary()"
   ]
  },
  {
   "cell_type": "code",
   "execution_count": 21,
   "metadata": {
    "executionInfo": {
     "elapsed": 727,
     "status": "ok",
     "timestamp": 1699361835167,
     "user": {
      "displayName": "ELSA",
      "userId": "12819283556995342183"
     },
     "user_tz": -480
    },
    "id": "Zn-zOGxcoFG5"
   },
   "outputs": [],
   "source": [
    "# Compile\n",
    "model. compile(loss='sparse_categorical_crossentropy',\n",
    "               optimizer='sgd',\n",
    "               metrics= ['accuracy'])"
   ]
  },
  {
   "cell_type": "code",
   "execution_count": 23,
   "metadata": {
    "colab": {
     "base_uri": "https://localhost:8080/"
    },
    "executionInfo": {
     "elapsed": 82998,
     "status": "ok",
     "timestamp": 1699362169075,
     "user": {
      "displayName": "ELSA",
      "userId": "12819283556995342183"
     },
     "user_tz": -480
    },
    "id": "si8LANYBoFG5",
    "outputId": "dccd8dd7-3dbb-4f4b-ef9b-c3ec04a07107"
   },
   "outputs": [
    {
     "name": "stdout",
     "output_type": "stream",
     "text": [
      "Epoch 1/20\n",
      "\u001b[1m1407/1407\u001b[0m \u001b[32m━━━━━━━━━━━━━━━━━━━━\u001b[0m\u001b[37m\u001b[0m \u001b[1m1s\u001b[0m 754us/step - accuracy: 0.6213 - loss: 1.1799 - val_accuracy: 0.7782 - val_loss: 0.6782\n",
      "Epoch 2/20\n",
      "\u001b[1m1407/1407\u001b[0m \u001b[32m━━━━━━━━━━━━━━━━━━━━\u001b[0m\u001b[37m\u001b[0m \u001b[1m1s\u001b[0m 654us/step - accuracy: 0.7935 - loss: 0.6498 - val_accuracy: 0.8067 - val_loss: 0.5962\n",
      "Epoch 3/20\n",
      "\u001b[1m1407/1407\u001b[0m \u001b[32m━━━━━━━━━━━━━━━━━━━━\u001b[0m\u001b[37m\u001b[0m \u001b[1m1s\u001b[0m 686us/step - accuracy: 0.8110 - loss: 0.5776 - val_accuracy: 0.8131 - val_loss: 0.5589\n",
      "Epoch 4/20\n",
      "\u001b[1m1407/1407\u001b[0m \u001b[32m━━━━━━━━━━━━━━━━━━━━\u001b[0m\u001b[37m\u001b[0m \u001b[1m1s\u001b[0m 708us/step - accuracy: 0.8228 - loss: 0.5405 - val_accuracy: 0.8230 - val_loss: 0.5301\n",
      "Epoch 5/20\n",
      "\u001b[1m1407/1407\u001b[0m \u001b[32m━━━━━━━━━━━━━━━━━━━━\u001b[0m\u001b[37m\u001b[0m \u001b[1m1s\u001b[0m 690us/step - accuracy: 0.8276 - loss: 0.5244 - val_accuracy: 0.8276 - val_loss: 0.5209\n",
      "Epoch 6/20\n",
      "\u001b[1m1407/1407\u001b[0m \u001b[32m━━━━━━━━━━━━━━━━━━━━\u001b[0m\u001b[37m\u001b[0m \u001b[1m1s\u001b[0m 671us/step - accuracy: 0.8326 - loss: 0.4985 - val_accuracy: 0.8271 - val_loss: 0.5097\n",
      "Epoch 7/20\n",
      "\u001b[1m1407/1407\u001b[0m \u001b[32m━━━━━━━━━━━━━━━━━━━━\u001b[0m\u001b[37m\u001b[0m \u001b[1m1s\u001b[0m 698us/step - accuracy: 0.8345 - loss: 0.4989 - val_accuracy: 0.8341 - val_loss: 0.4913\n",
      "Epoch 8/20\n",
      "\u001b[1m1407/1407\u001b[0m \u001b[32m━━━━━━━━━━━━━━━━━━━━\u001b[0m\u001b[37m\u001b[0m \u001b[1m1s\u001b[0m 725us/step - accuracy: 0.8386 - loss: 0.4850 - val_accuracy: 0.8337 - val_loss: 0.4855\n",
      "Epoch 9/20\n",
      "\u001b[1m1407/1407\u001b[0m \u001b[32m━━━━━━━━━━━━━━━━━━━━\u001b[0m\u001b[37m\u001b[0m \u001b[1m1s\u001b[0m 736us/step - accuracy: 0.8395 - loss: 0.4760 - val_accuracy: 0.8374 - val_loss: 0.4795\n",
      "Epoch 10/20\n",
      "\u001b[1m1407/1407\u001b[0m \u001b[32m━━━━━━━━━━━━━━━━━━━━\u001b[0m\u001b[37m\u001b[0m \u001b[1m1s\u001b[0m 656us/step - accuracy: 0.8418 - loss: 0.4801 - val_accuracy: 0.8347 - val_loss: 0.4782\n",
      "Epoch 11/20\n",
      "\u001b[1m1407/1407\u001b[0m \u001b[32m━━━━━━━━━━━━━━━━━━━━\u001b[0m\u001b[37m\u001b[0m \u001b[1m1s\u001b[0m 736us/step - accuracy: 0.8416 - loss: 0.4683 - val_accuracy: 0.8391 - val_loss: 0.4680\n",
      "Epoch 12/20\n",
      "\u001b[1m1407/1407\u001b[0m \u001b[32m━━━━━━━━━━━━━━━━━━━━\u001b[0m\u001b[37m\u001b[0m \u001b[1m1s\u001b[0m 665us/step - accuracy: 0.8473 - loss: 0.4546 - val_accuracy: 0.8401 - val_loss: 0.4640\n",
      "Epoch 13/20\n",
      "\u001b[1m1407/1407\u001b[0m \u001b[32m━━━━━━━━━━━━━━━━━━━━\u001b[0m\u001b[37m\u001b[0m \u001b[1m1s\u001b[0m 662us/step - accuracy: 0.8486 - loss: 0.4532 - val_accuracy: 0.8387 - val_loss: 0.4639\n",
      "Epoch 14/20\n",
      "\u001b[1m1407/1407\u001b[0m \u001b[32m━━━━━━━━━━━━━━━━━━━━\u001b[0m\u001b[37m\u001b[0m \u001b[1m1s\u001b[0m 692us/step - accuracy: 0.8476 - loss: 0.4562 - val_accuracy: 0.8423 - val_loss: 0.4618\n",
      "Epoch 15/20\n",
      "\u001b[1m1407/1407\u001b[0m \u001b[32m━━━━━━━━━━━━━━━━━━━━\u001b[0m\u001b[37m\u001b[0m \u001b[1m1s\u001b[0m 725us/step - accuracy: 0.8456 - loss: 0.4555 - val_accuracy: 0.8435 - val_loss: 0.4545\n",
      "Epoch 16/20\n",
      "\u001b[1m1407/1407\u001b[0m \u001b[32m━━━━━━━━━━━━━━━━━━━━\u001b[0m\u001b[37m\u001b[0m \u001b[1m1s\u001b[0m 676us/step - accuracy: 0.8487 - loss: 0.4474 - val_accuracy: 0.8447 - val_loss: 0.4542\n",
      "Epoch 17/20\n",
      "\u001b[1m1407/1407\u001b[0m \u001b[32m━━━━━━━━━━━━━━━━━━━━\u001b[0m\u001b[37m\u001b[0m \u001b[1m1s\u001b[0m 670us/step - accuracy: 0.8477 - loss: 0.4410 - val_accuracy: 0.8437 - val_loss: 0.4504\n",
      "Epoch 18/20\n",
      "\u001b[1m1407/1407\u001b[0m \u001b[32m━━━━━━━━━━━━━━━━━━━━\u001b[0m\u001b[37m\u001b[0m \u001b[1m1s\u001b[0m 697us/step - accuracy: 0.8512 - loss: 0.4398 - val_accuracy: 0.8443 - val_loss: 0.4503\n",
      "Epoch 19/20\n",
      "\u001b[1m1407/1407\u001b[0m \u001b[32m━━━━━━━━━━━━━━━━━━━━\u001b[0m\u001b[37m\u001b[0m \u001b[1m1s\u001b[0m 691us/step - accuracy: 0.8497 - loss: 0.4447 - val_accuracy: 0.8463 - val_loss: 0.4472\n",
      "Epoch 20/20\n",
      "\u001b[1m1407/1407\u001b[0m \u001b[32m━━━━━━━━━━━━━━━━━━━━\u001b[0m\u001b[37m\u001b[0m \u001b[1m1s\u001b[0m 701us/step - accuracy: 0.8515 - loss: 0.4432 - val_accuracy: 0.8437 - val_loss: 0.4475\n"
     ]
    }
   ],
   "source": [
    "# Train\n",
    "train = model.fit(x_train, y_train,\n",
    "                   epochs=20,\n",
    "                  validation_data=(x_valid, y_valid))"
   ]
  },
  {
   "cell_type": "code",
   "execution_count": 18,
   "metadata": {
    "colab": {
     "base_uri": "https://localhost:8080/",
     "height": 430
    },
    "executionInfo": {
     "elapsed": 978,
     "status": "ok",
     "timestamp": 1699363269270,
     "user": {
      "displayName": "ELSA",
      "userId": "12819283556995342183"
     },
     "user_tz": -480
    },
    "id": "gl4u5WyuoFG5",
    "outputId": "24574b5d-689d-4f32-f31f-b67b1c6e86d0"
   },
   "outputs": [
    {
     "data": {
      "image/png": "[encoded data removed]",
      "text/plain": [
       "<Figure size 640x480 with 1 Axes>"
      ]
     },
     "metadata": {},
     "output_type": "display_data"
    }
   ],
   "source": [
    "pd.DataFrame(train.history).plot()\n",
    "plt.grid(True)\n",
    "plt. show()"
   ]
  },
  {
   "cell_type": "code",
   "execution_count": 19,
   "metadata": {
    "colab": {
     "base_uri": "https://localhost:8080/"
    },
    "executionInfo": {
     "elapsed": 1895,
     "status": "ok",
     "timestamp": 1699363401300,
     "user": {
      "displayName": "ELSA",
      "userId": "12819283556995342183"
     },
     "user_tz": -480
    },
    "id": "UPHtK_OUoFG6",
    "outputId": "5ae9df29-6363-454a-f751-6722ee49628a"
   },
   "outputs": [
    {
     "name": "stdout",
     "output_type": "stream",
     "text": [
      "313/313 [==============================] - 1s 2ms/step - loss: 0.4778 - accuracy: 0.8321\n"
     ]
    },
    {
     "data": {
      "text/plain": [
       "[0.47783568501472473, 0.832099974155426]"
      ]
     },
     "execution_count": 19,
     "metadata": {},
     "output_type": "execute_result"
    }
   ],
   "source": [
    "# Evaluate\n",
    "model.evaluate(x_test, y_test)"
   ]
  },
  {
   "cell_type": "code",
   "execution_count": 23,
   "metadata": {
    "colab": {
     "base_uri": "https://localhost:8080/"
    },
    "executionInfo": {
     "elapsed": 1551,
     "status": "ok",
     "timestamp": 1699363630546,
     "user": {
      "displayName": "ELSA",
      "userId": "12819283556995342183"
     },
     "user_tz": -480
    },
    "id": "MR_ELzy1oFG6",
    "outputId": "59497e65-b87a-4ea0-e188-a4c69bbaa161"
   },
   "outputs": [
    {
     "name": "stdout",
     "output_type": "stream",
     "text": [
      "313/313 [==============================] - 0s 1ms/step\n"
     ]
    },
    {
     "data": {
      "text/plain": [
       "array([[0.  , 0.02, 0.24, 0.  , 0.65, 0.  , 0.08, 0.  , 0.  , 0.  ],\n",
       "       [0.  , 0.  , 0.  , 0.  , 0.  , 0.71, 0.  , 0.09, 0.03, 0.16],\n",
       "       [0.  , 0.  , 0.  , 0.  , 0.  , 0.6 , 0.  , 0.11, 0.28, 0.  ]],\n",
       "      dtype=float32)"
      ]
     },
     "execution_count": 23,
     "metadata": {},
     "output_type": "execute_result"
    }
   ],
   "source": [
    "# Predict\n",
    "y_proba = model.predict(x_test)\n",
    "y_proba[10:13].round (2)"
   ]
  },
  {
   "cell_type": "code",
   "execution_count": 24,
   "metadata": {
    "colab": {
     "base_uri": "https://localhost:8080/"
    },
    "executionInfo": {
     "elapsed": 303,
     "status": "ok",
     "timestamp": 1699363633988,
     "user": {
      "displayName": "ELSA",
      "userId": "12819283556995342183"
     },
     "user_tz": -480
    },
    "id": "1J_fiJCwoFG6",
    "outputId": "18e043da-07bf-46a8-abad-db901625eacf"
   },
   "outputs": [
    {
     "data": {
      "text/plain": [
       "array([4, 5, 5])"
      ]
     },
     "execution_count": 24,
     "metadata": {},
     "output_type": "execute_result"
    }
   ],
   "source": [
    "y_pred = np.argmax(y_proba, axis=1)\n",
    "y_pred[10:13]# 預測結果"
   ]
  },
  {
   "cell_type": "code",
   "execution_count": 25,
   "metadata": {
    "colab": {
     "base_uri": "https://localhost:8080/"
    },
    "executionInfo": {
     "elapsed": 278,
     "status": "ok",
     "timestamp": 1699363646492,
     "user": {
      "displayName": "ELSA",
      "userId": "12819283556995342183"
     },
     "user_tz": -480
    },
    "id": "umHPsnmSoFG6",
    "outputId": "e18b2e29-1349-4f1e-c1cf-781686a284b1"
   },
   "outputs": [
    {
     "data": {
      "text/plain": [
       "array([4, 5, 7], dtype=uint8)"
      ]
     },
     "execution_count": 25,
     "metadata": {},
     "output_type": "execute_result"
    }
   ],
   "source": [
    "y_test[10:13]"
   ]
  },
  {
   "cell_type": "code",
   "execution_count": 26,
   "metadata": {
    "colab": {
     "base_uri": "https://localhost:8080/"
    },
    "executionInfo": {
     "elapsed": 324,
     "status": "ok",
     "timestamp": 1699363778514,
     "user": {
      "displayName": "ELSA",
      "userId": "12819283556995342183"
     },
     "user_tz": -480
    },
    "id": "GEqVP53RoFG7",
    "outputId": "626275be-e810-4dfa-e00d-36096a86933c"
   },
   "outputs": [
    {
     "name": "stdout",
     "output_type": "stream",
     "text": [
      "[[762   5  12  60   4   1 138   0  18   0]\n",
      " [  1 956   3  27   5   0   6   0   2   0]\n",
      " [ 16   5 670  10 143   1 141   0  14   0]\n",
      " [ 20  14  11 867  27   1  55   0   5   0]\n",
      " [  0   2  85  45 738   1 119   0  10   0]\n",
      " [  1   0   0   2   0 901   0  58   5  33]\n",
      " [114   3  99  39  89   1 622   0  33   0]\n",
      " [  0   0   0   0   0  36   0 933   0  31]\n",
      " [  0   1   4  11   2   4  29   7 942   0]\n",
      " [  0   0   0   0   0  14   1  53   2 930]]\n"
     ]
    }
   ],
   "source": [
    "# Confusion matrix\n",
    "from sklearn.metrics import confusion_matrix\n",
    "\n",
    "print(confusion_matrix(y_test, y_pred))"
   ]
  },
  {
   "cell_type": "code",
   "execution_count": null,
   "metadata": {
    "id": "GlDpDnn2oFG7"
   },
   "outputs": [],
   "source": []
  }
 ],
 "metadata": {
  "colab": {
   "provenance": []
  },
  "kernelspec": {
   "display_name": "Python 3 (ipykernel)",
   "language": "python",
   "name": "python3"
  },
  "language_info": {
   "codemirror_mode": {
    "name": "ipython",
    "version": 3
   },
   "file_extension": ".py",
   "mimetype": "text/x-python",
   "name": "python",
   "nbconvert_exporter": "python",
   "pygments_lexer": "ipython3",
   "version": "3.12.4"
  }
 },
 "nbformat": 4,
 "nbformat_minor": 4
}
